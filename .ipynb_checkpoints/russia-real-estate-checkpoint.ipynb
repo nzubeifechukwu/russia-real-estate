{
 "cells": [
  {
   "cell_type": "markdown",
   "id": "b46ad6eb-b4f5-4b08-bad0-0c4b5f79e2ac",
   "metadata": {},
   "source": [
    "# Predicting Apartment Prices in Russia"
   ]
  },
  {
   "cell_type": "markdown",
   "id": "45f55cc7-41f1-465d-8f50-3246a802c385",
   "metadata": {},
   "source": [
    "In this project, I'll build a machine-learning model to predict the prices of apartments in Russia. The dataset for this project is obtained from [Daniilak on Kaggle](https://www.kaggle.com/datasets/mrdaniilak/russia-real-estate-2021). The documentation (or description) for the dataset is also available on the same Kaggle page.\n",
    "\n",
    "I'll follow the common machine learning workflow of:\n",
    "- Prepare data, which in turn has the following steps:\n",
    "  - Import data\n",
    "  - Explore data\n",
    "  - Split data\n",
    "- Build model\n",
    "- Communicate results"
   ]
  },
  {
   "cell_type": "code",
   "execution_count": 2,
   "id": "32c14f1d-7dd7-4ad0-947e-956cd8db9a31",
   "metadata": {},
   "outputs": [],
   "source": [
    "# Import libraries\n",
    "import pandas as pd"
   ]
  },
  {
   "cell_type": "markdown",
   "id": "2d57e8a9-3b87-4440-a7e4-58c3d212f906",
   "metadata": {},
   "source": [
    "## Prepare data"
   ]
  },
  {
   "cell_type": "markdown",
   "id": "2a6a3f67-fea5-43ae-b554-8f691c089320",
   "metadata": {},
   "source": [
    "### Import"
   ]
  },
  {
   "cell_type": "code",
   "execution_count": 3,
   "id": "2aedeb36-ef36-41af-92b3-fe71f731e196",
   "metadata": {},
   "outputs": [],
   "source": [
    "df = pd.read_csv('datasets/russia-real-estate-dataset.csv')"
   ]
  },
  {
   "cell_type": "code",
   "execution_count": 4,
   "id": "60fe9d37-9d36-43b6-ae6b-b80858352f2a",
   "metadata": {},
   "outputs": [
    {
     "name": "stdout",
     "output_type": "stream",
     "text": [
      "<class 'pandas.core.frame.DataFrame'>\n",
      "RangeIndex: 11358150 entries, 0 to 11358149\n",
      "Data columns (total 1 columns):\n",
      " #   Column                                                                                                                              Dtype \n",
      "---  ------                                                                                                                              ----- \n",
      " 0   date;price;level;levels;rooms;area;kitchen_area;geo_lat;geo_lon;building_type;object_type;postal_code;street_id;id_region;house_id  object\n",
      "dtypes: object(1)\n",
      "memory usage: 86.7+ MB\n",
      "None\n"
     ]
    },
    {
     "data": {
      "text/html": [
       "<div>\n",
       "<style scoped>\n",
       "    .dataframe tbody tr th:only-of-type {\n",
       "        vertical-align: middle;\n",
       "    }\n",
       "\n",
       "    .dataframe tbody tr th {\n",
       "        vertical-align: top;\n",
       "    }\n",
       "\n",
       "    .dataframe thead th {\n",
       "        text-align: right;\n",
       "    }\n",
       "</style>\n",
       "<table border=\"1\" class=\"dataframe\">\n",
       "  <thead>\n",
       "    <tr style=\"text-align: right;\">\n",
       "      <th></th>\n",
       "      <th>date;price;level;levels;rooms;area;kitchen_area;geo_lat;geo_lon;building_type;object_type;postal_code;street_id;id_region;house_id</th>\n",
       "    </tr>\n",
       "  </thead>\n",
       "  <tbody>\n",
       "    <tr>\n",
       "      <th>0</th>\n",
       "      <td>2021-01-01;2451300;15;31;1;30.3;0;56.7801124;6...</td>\n",
       "    </tr>\n",
       "    <tr>\n",
       "      <th>1</th>\n",
       "      <td>2021-01-01;1450000;5;5;1;33;6;44.6081542;40.13...</td>\n",
       "    </tr>\n",
       "    <tr>\n",
       "      <th>2</th>\n",
       "      <td>2021-01-01;10700000;4;13;3;85;12;55.5400601;37...</td>\n",
       "    </tr>\n",
       "    <tr>\n",
       "      <th>3</th>\n",
       "      <td>2021-01-01;3100000;3;5;3;82;9;44.6081542;40.13...</td>\n",
       "    </tr>\n",
       "    <tr>\n",
       "      <th>4</th>\n",
       "      <td>2021-01-01;2500000;2;3;1;30;9;44.7386846;37.71...</td>\n",
       "    </tr>\n",
       "  </tbody>\n",
       "</table>\n",
       "</div>"
      ],
      "text/plain": [
       "  date;price;level;levels;rooms;area;kitchen_area;geo_lat;geo_lon;building_type;object_type;postal_code;street_id;id_region;house_id\n",
       "0  2021-01-01;2451300;15;31;1;30.3;0;56.7801124;6...                                                                                \n",
       "1  2021-01-01;1450000;5;5;1;33;6;44.6081542;40.13...                                                                                \n",
       "2  2021-01-01;10700000;4;13;3;85;12;55.5400601;37...                                                                                \n",
       "3  2021-01-01;3100000;3;5;3;82;9;44.6081542;40.13...                                                                                \n",
       "4  2021-01-01;2500000;2;3;1;30;9;44.7386846;37.71...                                                                                "
      ]
     },
     "execution_count": 4,
     "metadata": {},
     "output_type": "execute_result"
    }
   ],
   "source": [
    "print(df.info())\n",
    "df.head()"
   ]
  },
  {
   "cell_type": "markdown",
   "id": "ef012851-2cf8-48bb-bb2b-77b2235edfd3",
   "metadata": {},
   "source": [
    "You see in the output above that the data is really messy. It's just a 1 by 1 data frame. But a closer examination of the column title and the row entries shows something interesting: What should have been different features (or columns) are lumped into one, separated by semi-colons.\n",
    "\n",
    "How do you separate these features to stand alone?"
   ]
  },
  {
   "cell_type": "code",
   "execution_count": 8,
   "id": "2854f956-9c58-4f65-91cc-839fa30043bb",
   "metadata": {},
   "outputs": [
    {
     "name": "stdout",
     "output_type": "stream",
     "text": [
      "['date', 'price', 'level', 'levels', 'rooms', 'area', 'kitchen_area', 'geo_lat', 'geo_lon', 'building_type', 'object_type', 'postal_code', 'street_id', 'id_region', 'house_id']\n"
     ]
    }
   ],
   "source": [
    "columns = df.columns.str.split(';')[0]\n",
    "print(columns)"
   ]
  },
  {
   "cell_type": "code",
   "execution_count": null,
   "id": "24a8c41e-08b5-40c3-acbe-83f9059b5732",
   "metadata": {},
   "outputs": [],
   "source": [
    "df[df.columns.to_list()[0]].str.split(';').head()"
   ]
  },
  {
   "cell_type": "code",
   "execution_count": 9,
   "id": "b330baf2-0b58-4b03-90c8-53778020e599",
   "metadata": {},
   "outputs": [
    {
     "data": {
      "text/plain": [
       "Index(['date;price;level;levels;rooms;area;kitchen_area;geo_lat;geo_lon;building_type;object_type;postal_code;street_id;id_region;house_id'], dtype='object')"
      ]
     },
     "execution_count": 9,
     "metadata": {},
     "output_type": "execute_result"
    }
   ],
   "source": [
    "df.columns"
   ]
  },
  {
   "cell_type": "code",
   "execution_count": null,
   "id": "380e649a-15d4-4612-ab02-410c81c6011d",
   "metadata": {},
   "outputs": [],
   "source": []
  }
 ],
 "metadata": {
  "kernelspec": {
   "display_name": "Python 3 (ipykernel)",
   "language": "python",
   "name": "python3"
  },
  "language_info": {
   "codemirror_mode": {
    "name": "ipython",
    "version": 3
   },
   "file_extension": ".py",
   "mimetype": "text/x-python",
   "name": "python",
   "nbconvert_exporter": "python",
   "pygments_lexer": "ipython3",
   "version": "3.12.2"
  }
 },
 "nbformat": 4,
 "nbformat_minor": 5
}
