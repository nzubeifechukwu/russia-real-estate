{
 "cells": [
  {
   "cell_type": "markdown",
   "id": "b46ad6eb-b4f5-4b08-bad0-0c4b5f79e2ac",
   "metadata": {},
   "source": [
    "# Predicting Apartment Prices in Russia"
   ]
  },
  {
   "cell_type": "markdown",
   "id": "45f55cc7-41f1-465d-8f50-3246a802c385",
   "metadata": {},
   "source": [
    "In this project, I want to build a machine-learning model to predict the prices of apartments in Russia. The dataset for this project is obtained from [Daniilak on Kaggle](https://www.kaggle.com/datasets/mrdaniilak/russia-real-estate-2021). The documentation (or description) for the dataset is also available on the same Kaggle page.\n",
    "\n",
    "I'll follow the common machine learning workflow of:\n",
    "- Prepare data, which in turn has the following steps:\n",
    "  - Import data\n",
    "  - Explore data\n",
    "  - Split data\n",
    "- Build model\n",
    "- Communicate results"
   ]
  },
  {
   "cell_type": "code",
   "execution_count": 2,
   "id": "32c14f1d-7dd7-4ad0-947e-956cd8db9a31",
   "metadata": {},
   "outputs": [],
   "source": [
    "# Import libraries\n",
    "import pandas as pd"
   ]
  },
  {
   "cell_type": "markdown",
   "id": "2d57e8a9-3b87-4440-a7e4-58c3d212f906",
   "metadata": {},
   "source": [
    "## Prepare data"
   ]
  },
  {
   "cell_type": "markdown",
   "id": "2a6a3f67-fea5-43ae-b554-8f691c089320",
   "metadata": {},
   "source": [
    "### Import"
   ]
  },
  {
   "cell_type": "code",
   "execution_count": null,
   "id": "2aedeb36-ef36-41af-92b3-fe71f731e196",
   "metadata": {},
   "outputs": [],
   "source": [
    "df = pd.read_csv('')"
   ]
  }
 ],
 "metadata": {
  "kernelspec": {
   "display_name": "Python 3 (ipykernel)",
   "language": "python",
   "name": "python3"
  },
  "language_info": {
   "codemirror_mode": {
    "name": "ipython",
    "version": 3
   },
   "file_extension": ".py",
   "mimetype": "text/x-python",
   "name": "python",
   "nbconvert_exporter": "python",
   "pygments_lexer": "ipython3",
   "version": "3.12.2"
  }
 },
 "nbformat": 4,
 "nbformat_minor": 5
}
