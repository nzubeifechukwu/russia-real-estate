{
 "cells": [
  {
   "cell_type": "markdown",
   "id": "b46ad6eb-b4f5-4b08-bad0-0c4b5f79e2ac",
   "metadata": {},
   "source": [
    "# Predicting Apartment Prices in Russia"
   ]
  },
  {
   "cell_type": "code",
   "execution_count": null,
   "id": "b1946204-f756-41c8-a801-e12cdcf191f9",
   "metadata": {},
   "outputs": [],
   "source": []
  }
 ],
 "metadata": {
  "kernelspec": {
   "display_name": "Python 3 (ipykernel)",
   "language": "python",
   "name": "python3"
  },
  "language_info": {
   "codemirror_mode": {
    "name": "ipython",
    "version": 3
   },
   "file_extension": ".py",
   "mimetype": "text/x-python",
   "name": "python",
   "nbconvert_exporter": "python",
   "pygments_lexer": "ipython3",
   "version": "3.12.2"
  }
 },
 "nbformat": 4,
 "nbformat_minor": 5
}
